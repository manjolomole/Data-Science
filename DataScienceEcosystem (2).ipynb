{
 "cells": [
  {
   "cell_type": "markdown",
   "id": "1e430530-e5ff-42a2-b065-d48ec8db636c",
   "metadata": {},
   "source": [
    "# Data Science Tools and Ecosystem"
   ]
  },
  {
   "cell_type": "markdown",
   "id": "2d9cb47a-d9d1-4db4-8209-60a8917c613b",
   "metadata": {},
   "source": [
    "In this notebook, Data Science Tools and Ecosystem are summarized"
   ]
  },
  {
   "cell_type": "markdown",
   "id": "752e4eca-8ca2-41fa-9793-b004d4cbec86",
   "metadata": {},
   "source": [
    "Some of the popular languages that Data Scientists use are:\n",
    "1. Python\n",
    "2. R\n",
    "3. Java"
   ]
  },
  {
   "cell_type": "markdown",
   "id": "5c377cd3-b5ce-47b1-b2e4-92ea0a562b7f",
   "metadata": {},
   "source": [
    "Some of the commonly used libraries used by Data scientists include:\n",
    "1. Pandas\n",
    "2. NumPy\n",
    "3. Keras"
   ]
  },
  {
   "cell_type": "markdown",
   "id": "ee75b89e-8a65-4fa0-ab0c-04675671acfa",
   "metadata": {},
   "source": [
    "|Data Science Tools|\n",
    "|------------------|\n",
    "|Python|\n",
    "|R Studio|\n",
    "|GitLab|"
   ]
  },
  {
   "cell_type": "markdown",
   "id": "ab5a63a7-8aca-40b1-98a1-2b67aaff8119",
   "metadata": {},
   "source": [
    "### Below are a few examples of evaluating arithmetic expressions in Python"
   ]
  },
  {
   "cell_type": "code",
   "execution_count": 15,
   "id": "327c111e-1015-4c49-a35f-a5fe138cb2ae",
   "metadata": {},
   "outputs": [
    {
     "data": {
      "text/plain": [
       "64"
      ]
     },
     "execution_count": 15,
     "metadata": {},
     "output_type": "execute_result"
    }
   ],
   "source": [
    "8*8"
   ]
  },
  {
   "cell_type": "code",
   "execution_count": 17,
   "id": "e6d91ff5-be13-4073-adf9-bd59c0fcedae",
   "metadata": {},
   "outputs": [
    {
     "data": {
      "text/plain": [
       "24"
      ]
     },
     "execution_count": 17,
     "metadata": {},
     "output_type": "execute_result"
    }
   ],
   "source": [
    "12+12"
   ]
  },
  {
   "cell_type": "code",
   "execution_count": null,
   "id": "b64e2b6b-39cb-4184-b69c-c55faaf4bc41",
   "metadata": {},
   "outputs": [],
   "source": [
    "#Convert minutes into hours\n",
    "def minutes_to_hours:\n",
    "hours=minutes/60\n",
    "     return hours"
   ]
  },
  {
   "cell_type": "markdown",
   "id": "e70ff463-a4e3-4647-bb29-4665444cb3d0",
   "metadata": {},
   "source": [
    "Objectives"
   ]
  },
  {
   "cell_type": "markdown",
   "id": "6b0655c6-bbd2-426e-a3ca-a4861f9aced6",
   "metadata": {},
   "source": [
    "Martha Njolom"
   ]
  }
 ],
 "metadata": {
  "kernelspec": {
   "display_name": "Python 3 (ipykernel)",
   "language": "python",
   "name": "python3"
  },
  "language_info": {
   "codemirror_mode": {
    "name": "ipython",
    "version": 3
   },
   "file_extension": ".py",
   "mimetype": "text/x-python",
   "name": "python",
   "nbconvert_exporter": "python",
   "pygments_lexer": "ipython3",
   "version": "3.12.7"
  }
 },
 "nbformat": 4,
 "nbformat_minor": 5
}
